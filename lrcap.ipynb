{
  "nbformat": 4,
  "nbformat_minor": 0,
  "metadata": {
    "colab": {
      "provenance": [],
      "include_colab_link": true
    },
    "kernelspec": {
      "name": "python3",
      "display_name": "Python 3"
    },
    "language_info": {
      "name": "python"
    }
  },
  "cells": [
    {
      "cell_type": "markdown",
      "metadata": {
        "id": "view-in-github",
        "colab_type": "text"
      },
      "source": [
        "<a href=\"https://colab.research.google.com/github/RacheleRice/ml_algo_lr/blob/main/lrcap.ipynb\" target=\"_parent\"><img src=\"https://colab.research.google.com/assets/colab-badge.svg\" alt=\"Open In Colab\"/></a>"
      ]
    },
    {
      "cell_type": "code",
      "source": [
        "import pandas as pd\n",
        "\n",
        "# Load mutation datasets with the correct path\n",
        "wuhan_data = pd.read_csv('/content/drive/My Drive/Linear_Regression_Capstone/convergent_RBD_evolution/allowed_muts/mut1_SARSCoV2_WuhanHu1_Spike.csv')\n",
        "ba1_data = pd.read_csv('/content/drive/My Drive/Linear_Regression_Capstone/convergent_RBD_evolution/allowed_muts/mut1_BA.1_Omicron_baseline_EPI_ISL_10000028.csv')\n",
        "ba2_data = pd.read_csv('/content/drive/My Drive/Linear_Regression_Capstone/convergent_RBD_evolution/allowed_muts/mut1_BA.2_Omicron_baseline_EPI_ISL_10000005.csv')\n",
        "ba275_data = pd.read_csv('/content/drive/My Drive/Linear_Regression_Capstone/convergent_RBD_evolution/allowed_muts/mut1_BA.2.75_EPI_ISL_13302209.csv')\n",
        "ba45_data = pd.read_csv('/content/drive/My Drive/Linear_Regression_Capstone/convergent_RBD_evolution/allowed_muts/mut1_BA.4_BA.5_EPI_ISL_11207535.csv')\n",
        "src_neut_data = pd.read_csv('/content/drive/My Drive/Linear_Regression_Capstone/convergent_RBD_evolution/src_neut_data.csv')\n",
        "use_res_clean = pd.read_csv('/content/drive/My Drive/Linear_Regression_Capstone/convergent_RBD_evolution/use_res_clean.csv')\n",
        "\n",
        "# Load all sheets from the Excel file as a dictionary of DataFrames\n",
        "antibody_info_dict = pd.read_excel('/content/drive/My Drive/Linear_Regression_Capstone/convergent_RBD_evolution/antibody_info.xlsx', sheet_name=None)\n",
        "\n",
        "#Accessing specific sheets\n",
        "cross_data = antibody_info_dict['cross']\n",
        "specific_data = antibody_info_dict.get('specific', pd.DataFrame) # Safe access if 'specific' sheet might not exist\n",
        "\n",
        "# Check the initial few rows of one of the datasets to confirm\n",
        "print(\"BA.1 Data Head:\\n\", ba1_data.head())\n",
        "print(\"\\nSrc Neutralizing Data Head:\\n\", src_neut_data.head())\n",
        "print(\"\\nUse Res Clean Data Head:\\n\", use_res_clean.head())\n",
        "print(\"\\nCross Data Head:\\n\", cross_data.head())\n",
        "print(\"\\nSpecific Data Head:\\n\", specific_data.head())\n"
      ],
      "metadata": {
        "colab": {
          "base_uri": "https://localhost:8080/"
        },
        "id": "J9IycSXOnN2w",
        "outputId": "8b38c497-66e9-4a99-ce49-c116a8a813d7"
      },
      "execution_count": 59,
      "outputs": [
        {
          "output_type": "stream",
          "name": "stdout",
          "text": [
            "BA.1 Data Head:\n",
            "   wt  pos     mut1  num_aa\n",
            "0  N  331  DHIKSTY       7\n",
            "1  I  332  FLMNSTV       7\n",
            "2  T  333   AIKPRS       6\n",
            "3  N  334  DHIKSTY       7\n",
            "4  L  335    FMSVW       5\n",
            "\n",
            "Src Neutralizing Data Head:\n",
            "   antibody            source D614G_IC50 BA1_IC50 BA2_IC50 BA2_75_IC50 BA5_IC50\n",
            "0   BD-196  WT convalescents       1.93      >10      >10         >10      >10\n",
            "1   BD-218  WT convalescents     0.0104  0.00849  0.00937      0.0116     5.26\n",
            "2   BD-236  WT convalescents     0.0173      >10      >10         >10      >10\n",
            "3   BD-254  WT convalescents       0.25      >10      >10         >10      >10\n",
            "4   BD-255  WT convalescents      0.113      >10      >10         >10      >10\n",
            "\n",
            "Use Res Clean Data Head:\n",
            "   antibody  site mutation  mut_escape group\n",
            "0   BD-196   349        H    0.208866     C\n",
            "1   BD-196   349        N    0.065818     C\n",
            "2   BD-196   349        P    0.128169     C\n",
            "3   BD-196   351        H    0.298263     C\n",
            "4   BD-196   352        G    0.071541     C\n",
            "\n",
            "Cross Data Head:\n",
            "        Unnamed: 0     Unnamed: 1        Unnamed: 2  \\\n",
            "0  Antibody  Name  Epitope Group            source   \n",
            "1          BD-196              C  WT convalescents   \n",
            "2          BD-218              A  WT convalescents   \n",
            "3          BD-236              A  WT convalescents   \n",
            "4          BD-254              C  WT convalescents   \n",
            "\n",
            "  Pseudovirus neutralization IC50 (μg/mL) Unnamed: 4 Unnamed: 5 Unnamed: 6  \\\n",
            "0                                   D614G       BA.1       BA.2    BA.2.75   \n",
            "1                                    1.93        >10        >10        >10   \n",
            "2                                  0.0104    0.00849    0.00937     0.0116   \n",
            "3                                  0.0173        >10        >10        >10   \n",
            "4                                    0.25        >10        >10        >10   \n",
            "\n",
            "  Unnamed: 7 Unnamed: 8 Unnamed: 9         Unnamed: 10         Unnamed: 11  \\\n",
            "0       BA.5     BQ.1.1        XBB  Heavy chain V gene  Heavy chain J gene   \n",
            "1        >10        >10        >10             IGHV1-3               IGHJ6   \n",
            "2       5.26        >10        >10            IGHV4-34               IGHJ1   \n",
            "3        >10        >10        >10            IGHV3-53               IGHJ6   \n",
            "4        >10        >10        >10            IGHV3-23               IGHJ4   \n",
            "\n",
            "          Unnamed: 12         Unnamed: 13  \\\n",
            "0  Light chain V gene  Light chain J gene   \n",
            "1            IGKV2-58               IGKJ1   \n",
            "2            IGKV3-11               IGKJ5   \n",
            "3             IGKV1-9               IGKJ4   \n",
            "4            IGLV7-46               IGLJ2   \n",
            "\n",
            "                                         Unnamed: 14  \\\n",
            "0                                     Heavy chain AA   \n",
            "1  QVQLVQSGAEVKKPGASVKVSCKASGYTFTSYAMHWVRQAPGQRLE...   \n",
            "2  QVQLQQWGAGLLKPSETLSLTCAVYGGSFSDYFWYWIRQPPGKGLE...   \n",
            "3  EVQLVESGGGLIQPGGSLRLSCAASGITVSSNYMSWVRQAPGKGLE...   \n",
            "4  EVQLLESGGGLVQPGGSLRLSCAASGFTLSSYAMSWVRQAPGRGLE...   \n",
            "\n",
            "                                         Unnamed: 15  \n",
            "0                                     Light chain AA  \n",
            "1  DVVMTQSPLSLPVTLGQPASISCRSSQSLVYSDGNTYLNWFQQRPG...  \n",
            "2  EIVLTQSPATLSLSPGERATLSCRASQSVSSYLAWYQQKPGQAPRL...  \n",
            "3  IQLTQSPSSLSASVGDRVTITCRASQGISSYLAWYQQKPGKAPKLL...  \n",
            "4  QAVVTQEPSLTVSPGGTVTLTCGSSTGAVTSGHYPYWFQQKPGQAP...  \n",
            "\n",
            "Specific Data Head:\n",
            "        Unnamed: 0          Unnamed: 1 Pseudovirus neutralization IC50 (μg/mL)  \\\n",
            "0  Antibody  Name              source                                   D614G   \n",
            "1        BD56-207  BA.1 convalescents                                     >10   \n",
            "2        BD56-235  BA.1 convalescents                                     >10   \n",
            "3        BD56-236  BA.1 convalescents                                     >10   \n",
            "4        BD56-266  BA.1 convalescents                                     >10   \n",
            "\n",
            "  Unnamed: 3 Unnamed: 4 Unnamed: 5 Unnamed: 6 Unnamed: 7 Unnamed: 8  \\\n",
            "0       BA.1       BA.2       BA.5    BA.2.75  BA.2.75.2       CA.1   \n",
            "1        >10        >10        >10        >10        >10        >10   \n",
            "2     0.0353     0.0335        >10       1.13       0.99        >10   \n",
            "3   0.000842    0.00265    0.00349     0.0174      0.018     0.0157   \n",
            "4    0.00335     0.0347        >10        >10        >10        >10   \n",
            "\n",
            "  Unnamed: 9 Unnamed: 10 Unnamed: 11 Unnamed: 12         Unnamed: 13  \\\n",
            "0     BQ.1.1        BR.2    BM.1.1.1         XBB  Heavy chain V gene   \n",
            "1        >10         >10         >10         >10             IGHV2-5   \n",
            "2        >10         >10         >10         >10            IGHV3-23   \n",
            "3        7.8      0.0298      0.0217         >10            IGHV5-51   \n",
            "4        >10         >10         >10         >10            IGHV1-24   \n",
            "\n",
            "          Unnamed: 14         Unnamed: 15         Unnamed: 16  \\\n",
            "0  Heavy chain J gene  Light chain V gene  Light chain J gene   \n",
            "1               IGHJ4            IGLV1-36               IGLJ3   \n",
            "2               IGHJ4            IGLV2-23               IGLJ3   \n",
            "3               IGHJ6            IGKV2-29               IGKJ1   \n",
            "4               IGHJ4            IGKV3-15               IGKJ1   \n",
            "\n",
            "                                         Unnamed: 17  \\\n",
            "0                                     Heavy chain AA   \n",
            "1  QITLKESGPTLVKPTQTLTLTCTFSGFSLTTSKVGVAWIRQPPGKA...   \n",
            "2  EVQLLESGGGLVQPGGSLRLSCAASGFTFRSYVMSWVRQAPGKGLE...   \n",
            "3  EVQLVQSGAEVKKPGESLKISCEASGYTFTNFWIAWVRQMPGKGLE...   \n",
            "4  QVQLVQSGAEVKKPGASVKVSCKVSGYTLTELSMHWVRQVPGKGLE...   \n",
            "\n",
            "                                         Unnamed: 18  \n",
            "0                                     Light chain AA  \n",
            "1  QSVLTQPPSVSEAPRQRVTISCSGSSSNIGHNAVNWYQQLPGKAPK...  \n",
            "2  QSALTQPASVSGSPGQSITISCTGSSSDVGSYILVSWYQQHPGKAP...  \n",
            "3  DIVMTQTPLSLSVTPGQPASISCKSSQSLLQSDGNTYLYWFLQKPG...  \n",
            "4  EIVMTQSPATLSVSPGERATLSCRASQSISSNLAWYQQKPGQAPRL...  \n"
          ]
        }
      ]
    },
    {
      "cell_type": "code",
      "source": [
        "# Check for missing values\n",
        "\n",
        "print(\"BA.1 Data Head:\\n\", ba1_data.isnull().sum())\n",
        "print(\"\\nSrc Neutralizing Data Head:\\n\", src_neut_data.isnull().sum())\n",
        "print(\"\\nUse Res Clean Data Head:\\n\", use_res_clean.isnull().sum())\n",
        "print(\"\\nCross Data Head:\\n\", cross_data.isnull().sum())\n",
        "print(\"\\nSpecific Data Head:\\n\", specific_data.isnull().sum())"
      ],
      "metadata": {
        "id": "6vE80IGNnXR5",
        "colab": {
          "base_uri": "https://localhost:8080/"
        },
        "outputId": "263b60f6-808c-41f4-971d-5b0c19e412ff"
      },
      "execution_count": 61,
      "outputs": [
        {
          "output_type": "stream",
          "name": "stdout",
          "text": [
            "BA.1 Data Head:\n",
            " wt        0\n",
            "pos       0\n",
            "mut1      0\n",
            "num_aa    0\n",
            "dtype: int64\n",
            "\n",
            "Src Neutralizing Data Head:\n",
            " antibody       0\n",
            "source         0\n",
            "D614G_IC50     0\n",
            "BA1_IC50       0\n",
            "BA2_IC50       0\n",
            "BA2_75_IC50    0\n",
            "BA5_IC50       0\n",
            "dtype: int64\n",
            "\n",
            "Use Res Clean Data Head:\n",
            " antibody      0\n",
            "site          0\n",
            "mutation      0\n",
            "mut_escape    0\n",
            "group         0\n",
            "dtype: int64\n",
            "\n",
            "Cross Data Head:\n",
            " Unnamed: 0                                 0\n",
            "Unnamed: 1                                 0\n",
            "Unnamed: 2                                 0\n",
            "Pseudovirus neutralization IC50 (μg/mL)    0\n",
            "Unnamed: 4                                 0\n",
            "Unnamed: 5                                 0\n",
            "Unnamed: 6                                 0\n",
            "Unnamed: 7                                 0\n",
            "Unnamed: 8                                 0\n",
            "Unnamed: 9                                 0\n",
            "Unnamed: 10                                0\n",
            "Unnamed: 11                                0\n",
            "Unnamed: 12                                0\n",
            "Unnamed: 13                                0\n",
            "Unnamed: 14                                0\n",
            "Unnamed: 15                                0\n",
            "dtype: int64\n",
            "\n",
            "Specific Data Head:\n",
            " Unnamed: 0                                 0\n",
            "Unnamed: 1                                 0\n",
            "Pseudovirus neutralization IC50 (μg/mL)    0\n",
            "Unnamed: 3                                 0\n",
            "Unnamed: 4                                 0\n",
            "Unnamed: 5                                 0\n",
            "Unnamed: 6                                 0\n",
            "Unnamed: 7                                 0\n",
            "Unnamed: 8                                 0\n",
            "Unnamed: 9                                 0\n",
            "Unnamed: 10                                0\n",
            "Unnamed: 11                                0\n",
            "Unnamed: 12                                0\n",
            "Unnamed: 13                                0\n",
            "Unnamed: 14                                0\n",
            "Unnamed: 15                                0\n",
            "Unnamed: 16                                0\n",
            "Unnamed: 17                                0\n",
            "Unnamed: 18                                0\n",
            "dtype: int64\n"
          ]
        }
      ]
    },
    {
      "cell_type": "code",
      "source": [
        "# Assuming `resulting_data` is your DataFrame\n",
        "# Save DataFrame to a CSV file\n",
        "resulting_data.to_csv('/content/drive/My Drive/Linear_Regression_Capstone/Mutation_Data.csv', index=False)\n",
        "\n",
        "print(\"File saved to Drive successfully.\")\n",
        "\n",
        "from google.colab import files\n",
        "\n",
        "# Download the file\n",
        "files.download('/content/drive/My Drive/Linear_Regression_Capstone/Mutation_Data.csv')\n"
      ],
      "metadata": {
        "colab": {
          "base_uri": "https://localhost:8080/",
          "height": 35
        },
        "id": "BhtncLywNk73",
        "outputId": "d99ab3b6-f9cd-4b58-d85b-b6a5585bc9d3"
      },
      "execution_count": 62,
      "outputs": [
        {
          "output_type": "stream",
          "name": "stdout",
          "text": [
            "File saved to Drive successfully.\n"
          ]
        },
        {
          "output_type": "display_data",
          "data": {
            "text/plain": [
              "<IPython.core.display.Javascript object>"
            ],
            "application/javascript": [
              "\n",
              "    async function download(id, filename, size) {\n",
              "      if (!google.colab.kernel.accessAllowed) {\n",
              "        return;\n",
              "      }\n",
              "      const div = document.createElement('div');\n",
              "      const label = document.createElement('label');\n",
              "      label.textContent = `Downloading \"${filename}\": `;\n",
              "      div.appendChild(label);\n",
              "      const progress = document.createElement('progress');\n",
              "      progress.max = size;\n",
              "      div.appendChild(progress);\n",
              "      document.body.appendChild(div);\n",
              "\n",
              "      const buffers = [];\n",
              "      let downloaded = 0;\n",
              "\n",
              "      const channel = await google.colab.kernel.comms.open(id);\n",
              "      // Send a message to notify the kernel that we're ready.\n",
              "      channel.send({})\n",
              "\n",
              "      for await (const message of channel.messages) {\n",
              "        // Send a message to notify the kernel that we're ready.\n",
              "        channel.send({})\n",
              "        if (message.buffers) {\n",
              "          for (const buffer of message.buffers) {\n",
              "            buffers.push(buffer);\n",
              "            downloaded += buffer.byteLength;\n",
              "            progress.value = downloaded;\n",
              "          }\n",
              "        }\n",
              "      }\n",
              "      const blob = new Blob(buffers, {type: 'application/binary'});\n",
              "      const a = document.createElement('a');\n",
              "      a.href = window.URL.createObjectURL(blob);\n",
              "      a.download = filename;\n",
              "      div.appendChild(a);\n",
              "      a.click();\n",
              "      div.remove();\n",
              "    }\n",
              "  "
            ]
          },
          "metadata": {}
        },
        {
          "output_type": "display_data",
          "data": {
            "text/plain": [
              "<IPython.core.display.Javascript object>"
            ],
            "application/javascript": [
              "download(\"download_a58cd907-f8b0-4783-9191-53e2c8d5643a\", \"Mutation_Data.csv\", 29279618)"
            ]
          },
          "metadata": {}
        }
      ]
    },
    {
      "cell_type": "code",
      "source": [
        "print(resulting_data.columns)\n"
      ],
      "metadata": {
        "colab": {
          "base_uri": "https://localhost:8080/"
        },
        "id": "0pFiSnxBSaR6",
        "outputId": "c5cbbde6-a999-4816-ad2e-141897abd285"
      },
      "execution_count": 64,
      "outputs": [
        {
          "output_type": "stream",
          "name": "stdout",
          "text": [
            "Index(['wt', 'pos', 'Potential_Mutation', 'num_aa', 'Variant', 'antibody',\n",
            "       'site', 'Observed_Mutation', 'mut_escape', 'group'],\n",
            "      dtype='object')\n"
          ]
        }
      ]
    },
    {
      "cell_type": "code",
      "source": [
        "# Rename the columns for clarity\n",
        "resulting_data.rename(columns={'Mutation': 'Potential_Mutation', 'mutation': 'Observed_Mutation'}, inplace=True)\n",
        "\n",
        "# Verify the new column names\n",
        "print(resulting_data.columns)\n",
        "\n",
        "# Save the cleaned data\n",
        "resulting_data.to_csv('/content/drive/My Drive/Linear_Regression_Capstone/Mutation_Data_Cleaned.csv', index=False)\n",
        "\n",
        "# Optionally, code to download the file to the local system if using Google Colab\n",
        "from google.colab import files\n",
        "files.download('/content/drive/My Drive/Linear_Regression_Capstone/Mutation_Data_Cleaned.csv')\n"
      ],
      "metadata": {
        "colab": {
          "base_uri": "https://localhost:8080/",
          "height": 72
        },
        "id": "7pOR70NpTOf-",
        "outputId": "74ba343b-a883-4fd8-8897-1d854005e48d"
      },
      "execution_count": 65,
      "outputs": [
        {
          "output_type": "stream",
          "name": "stdout",
          "text": [
            "Index(['wt', 'pos', 'Potential_Mutation', 'num_aa', 'Variant', 'antibody',\n",
            "       'site', 'Observed_Mutation', 'mut_escape', 'group'],\n",
            "      dtype='object')\n"
          ]
        },
        {
          "output_type": "display_data",
          "data": {
            "text/plain": [
              "<IPython.core.display.Javascript object>"
            ],
            "application/javascript": [
              "\n",
              "    async function download(id, filename, size) {\n",
              "      if (!google.colab.kernel.accessAllowed) {\n",
              "        return;\n",
              "      }\n",
              "      const div = document.createElement('div');\n",
              "      const label = document.createElement('label');\n",
              "      label.textContent = `Downloading \"${filename}\": `;\n",
              "      div.appendChild(label);\n",
              "      const progress = document.createElement('progress');\n",
              "      progress.max = size;\n",
              "      div.appendChild(progress);\n",
              "      document.body.appendChild(div);\n",
              "\n",
              "      const buffers = [];\n",
              "      let downloaded = 0;\n",
              "\n",
              "      const channel = await google.colab.kernel.comms.open(id);\n",
              "      // Send a message to notify the kernel that we're ready.\n",
              "      channel.send({})\n",
              "\n",
              "      for await (const message of channel.messages) {\n",
              "        // Send a message to notify the kernel that we're ready.\n",
              "        channel.send({})\n",
              "        if (message.buffers) {\n",
              "          for (const buffer of message.buffers) {\n",
              "            buffers.push(buffer);\n",
              "            downloaded += buffer.byteLength;\n",
              "            progress.value = downloaded;\n",
              "          }\n",
              "        }\n",
              "      }\n",
              "      const blob = new Blob(buffers, {type: 'application/binary'});\n",
              "      const a = document.createElement('a');\n",
              "      a.href = window.URL.createObjectURL(blob);\n",
              "      a.download = filename;\n",
              "      div.appendChild(a);\n",
              "      a.click();\n",
              "      div.remove();\n",
              "    }\n",
              "  "
            ]
          },
          "metadata": {}
        },
        {
          "output_type": "display_data",
          "data": {
            "text/plain": [
              "<IPython.core.display.Javascript object>"
            ],
            "application/javascript": [
              "download(\"download_6ee3a55c-996b-4ab7-afdb-43cc9d3869f3\", \"Mutation_Data_Cleaned.csv\", 29279618)"
            ]
          },
          "metadata": {}
        }
      ]
    }
  ]
}